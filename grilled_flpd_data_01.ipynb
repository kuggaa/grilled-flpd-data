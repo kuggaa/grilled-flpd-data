{
 "cells": [
  {
   "cell_type": "markdown",
   "metadata": {},
   "source": [
    "## Questions\n",
    "\n",
    "### Q: Where do I start?\n",
    "\n",
    "I do not want to use a framework. I want, however, to use npm to start building the app.\n",
    "\n",
    "I am going to start with testing if I can talk to the MongoDB database.\n",
    "\n",
    "### Resources for this question.\n",
    "\n",
    "* [quickstart node-mongodb-native](https://mongodb.github.io/node-mongodb-native/)\n",
    "* [node-mongodb-native documentation](http://mongodb.github.io/node-mongodb-native/2.2/)"
   ]
  },
  {
   "cell_type": "code",
   "execution_count": 2,
   "metadata": {
    "collapsed": false
   },
   "outputs": [
    {
     "name": "stderr",
     "output_type": "stream",
     "text": [
      "+ npm install mongodb --save\n"
     ]
    },
    {
     "name": "stdout",
     "output_type": "stream",
     "text": [
      "grilled_flpd_data@1.0.0 /home/dmmmd/Dropbox/Wyncode-Academy/web-presence/zipped-code/content/posts/python-mongodb/grilled_flpd_data\n",
      "└── mongodb@2.2.10 \n",
      "\n"
     ]
    }
   ],
   "source": [
    "!npm install mongodb --save"
   ]
  },
  {
   "cell_type": "markdown",
   "metadata": {},
   "source": [
    "**Check on this friendly warning.**\n",
    "\n",
    "> npm WARN enoent ENOENT: no such file or directory, open '/home/dmmmd/Dropbox/Wyncode-Academy/web-presence/zipped-code/content/posts/python-mongodb/grilled_flpd_data/package.json'"
   ]
  },
  {
   "cell_type": "code",
   "execution_count": 2,
   "metadata": {
    "collapsed": false
   },
   "outputs": [
    {
     "name": "stderr",
     "output_type": "stream",
     "text": [
      "+ ls -als\n"
     ]
    },
    {
     "name": "stdout",
     "output_type": "stream",
     "text": [
      "total 108\n",
      " 8 drwxrwxr-x  6 dmmmd dmmmd  4096 Sep 16 23:14 .\n",
      " 8 drwxr-xr-x  5 dmmmd dmmmd  4096 Sep 16 12:25 ..\n",
      " 8 drwxrwxr-x  7 dmmmd dmmmd  4096 Sep 16 13:44 .git\n",
      " 8 -rw-rw-r--  1 dmmmd dmmmd    34 Sep 16 13:44 .gitignore\n",
      "16 -rw-rw-r--  1 dmmmd dmmmd 11354 Sep 16 15:09 grilled_flpd_data_01.ipynb\n",
      " 8 -rw-rw-r--  1 dmmmd dmmmd   699 Sep 16 23:11 grilled_flpd_data_01.ipynb-meta\n",
      " 8 -rw-rw-r--  1 dmmmd dmmmd    72 Sep 16 23:13 grilled_flpd_data_02.ipynb\n",
      " 8 -rw-rw-r--  1 dmmmd dmmmd   699 Sep 16 23:12 grilled_flpd_data_02.ipynb-meta\n",
      " 8 drwxr-xr-x  2 dmmmd dmmmd  4096 Sep 16 23:13 .ipynb_checkpoints\n",
      " 8 drwxrwxr-x  2 dmmmd dmmmd  4096 Sep 16 14:01 local_db\n",
      " 8 drwxrwxr-x 18 dmmmd dmmmd  4096 Sep 16 23:14 node_modules\n",
      " 8 -rw-rw-r--  1 dmmmd dmmmd  1024 Sep 16 23:14 package.json\n",
      " 4 -rw-rw-r--  1 dmmmd dmmmd     0 Sep 16 23:13 Untitled.txt\n"
     ]
    }
   ],
   "source": [
    "!ls -als"
   ]
  },
  {
   "cell_type": "markdown",
   "metadata": {},
   "source": [
    "**I forgot `npm init`. That is why I have no package.json file.**"
   ]
  },
  {
   "cell_type": "code",
   "execution_count": null,
   "metadata": {
    "collapsed": false
   },
   "outputs": [
    {
     "name": "stderr",
     "output_type": "stream",
     "text": [
      "+ npm init\n"
     ]
    },
    {
     "name": "stdout",
     "output_type": "stream",
     "text": [
      "This utility will walk you through creating a package.json file.\n",
      "It only covers the most common items, and tries to guess sensible defaults.\n",
      "\n",
      "See `npm help json` for definitive documentation on these fields\n",
      "and exactly what they do.\n",
      "\n",
      "Use `npm install <pkg> --save` afterwards to install a package and\n",
      "save it as a dependency in the package.json file.\n",
      "\n",
      "Press ^C at any time to quit.\n",
      "name: (grilled_flpd_data) "
     ]
    }
   ],
   "source": [
    "!npm init"
   ]
  },
  {
   "cell_type": "markdown",
   "metadata": {},
   "source": [
    "**I have to run `npm init` inside of a terminal and not a Jupyter notebook. Some Jupyter notebooks don't do stdin it seems. NB: I am working in a Jupyter notebook with a NodeJS kernel.**\n",
    "![screenshot of Jupyter notebook for this blog post]({filename}/images/grilled/grilled_flpd_data_01.png)\n",
    "\n",
    "**And now a package.json file exists.**"
   ]
  },
  {
   "cell_type": "code",
   "execution_count": 4,
   "metadata": {
    "collapsed": false
   },
   "outputs": [
    {
     "name": "stderr",
     "output_type": "stream",
     "text": [
      "+ cat package.json\n"
     ]
    },
    {
     "name": "stdout",
     "output_type": "stream",
     "text": [
      "{\n",
      "  \"name\": \"grilled_flpd_data\",\n",
      "  \"version\": \"1.0.0\",\n",
      "  \"description\": \"Diplay data from a data collection based on existing collections in MongoDB from the City of Fort Lauderdale Police Department traffic citations and accidents data obtained at the Code for Fort Lauderdale Hackathon 2016. This is an exercise in building a website using libraries as much as possible and frameworks as little as possible. Grilled is a ReactJS component that is the object of this exercise.\",\n",
      "  \"main\": \"index.js\",\n",
      "  \"dependencies\": {\n",
      "    \"mongodb\": \"2.2.10\"\n",
      "  },\n",
      "  \"devDependencies\": {},\n",
      "  \"scripts\": {\n",
      "    \"test\": \"grunt test\"\n",
      "  },\n",
      "  \"repository\": {\n",
      "    \"type\": \"git\",\n",
      "    \"url\": \"git+ssh://git@github.com/dm-wyncode/grilled-flpd-data.git\"\n",
      "  },\n",
      "  \"keywords\": [\n",
      "    \"reactjs\",\n",
      "    \"grilled\",\n",
      "    \"javascript\",\n",
      "    \"mongodb\"\n",
      "  ],\n",
      "  \"author\": \"Don Morehouse\",\n",
      "  \"license\": \"ISC\",\n",
      "  \"bugs\": {\n",
      "    \"url\": \"https://github.com/dm-wyncode/grilled-flpd-data/issues\"\n",
      "  },\n",
      "  \"homepage\": \"https://github.com/dm-wyncode/grilled-flpd-data#readme\"\n",
      "}\n"
     ]
    }
   ],
   "source": [
    "!cat package.json"
   ]
  },
  {
   "cell_type": "markdown",
   "metadata": {},
   "source": [
    "**Add code to connect to the server and the database 'app'**"
   ]
  },
  {
   "cell_type": "code",
   "execution_count": 5,
   "metadata": {
    "collapsed": false
   },
   "outputs": [
    {
     "name": "stdout",
     "output_type": "stream",
     "text": [
      "Connected successfully to server.\n"
     ]
    }
   ],
   "source": [
    "const MongoClient = require('mongodb').MongoClient,\n",
    "      assert = require('assert');\n",
    "\n",
    "// Connection URL\n",
    "const url = 'mongodb://localhost:27017/app';\n",
    "\n",
    "// Use connect method to connect to the server\n",
    "MongoClient.connect(url, function(err, db){\n",
    "   assert.equal(null, err);\n",
    "   console.log(\"Connected successfully to server.\");\n",
    "   db.close()\n",
    "});"
   ]
  },
  {
   "cell_type": "markdown",
   "metadata": {},
   "source": [
    "**So far so good!**"
   ]
  },
  {
   "cell_type": "markdown",
   "metadata": {},
   "source": [
    "![side note]({filename}/images/sm_sidenote.jpg)**Side note: jshint in Vim is not honoring ECMA6.**\n",
    "\n",
    "* [blog post on setting up Vim with React](https://jaxbot.me/articles/setting-up-vim-for-react-js-jsx-02-03-2015)\n",
    "* [JavaScript UltiSnips for Vim](https://github.com/honza/vim-snippets/blob/master/UltiSnips/javascript.snippets)\n",
    "\n",
    "I followed the instructions in the blog and now Vim lints \\*.js files as expected!"
   ]
  },
  {
   "cell_type": "markdown",
   "metadata": {},
   "source": [
    "<blockquote class=\"twitter-tweet\" data-lang=\"en\"><p lang=\"en\" dir=\"ltr\">Setting up Vim for React.js <a href=\"https://t.co/vAsA7SPTuy\">https://t.co/vAsA7SPTuy</a> via .<a href=\"https://twitter.com/Jaxbot\">@jaxbot</a> Thank you for a simple solution to my Vim linting situation.</p>&mdash; Don Morehouse (@dmmfll) <a href=\"https://twitter.com/dmmfll/status/776786861939318784\">September 16, 2016</a></blockquote>\n",
    "<script async src=\"//platform.twitter.com/widgets.js\" charset=\"utf-8\"></script>"
   ]
  },
  {
   "cell_type": "markdown",
   "metadata": {},
   "source": [
    "![side note]({filename}/images/sm_sidenote.jpg)**End side note: jshint in Vim is not honoring ECMA6.**"
   ]
  },
  {
   "cell_type": "markdown",
   "metadata": {},
   "source": [
    "### Question: How can I reuse that database code if I want to check my database connection?\n",
    "\n",
    "### Answer: Make an npm package.\n",
    "\n",
    "```bash\n",
    "mkdir local_db\n",
    "cd local_db\n",
    "npm init\n",
    "vim index.js\n",
    "```"
   ]
  },
  {
   "cell_type": "code",
   "execution_count": 6,
   "metadata": {
    "collapsed": false
   },
   "outputs": [
    {
     "name": "stderr",
     "output_type": "stream",
     "text": [
      "+ tree local_db\n"
     ]
    },
    {
     "name": "stdout",
     "output_type": "stream",
     "text": [
      "local_db\n",
      "├── index.js\n",
      "└── package.json\n",
      "\n",
      "0 directories, 2 files\n"
     ]
    }
   ],
   "source": [
    "!tree local_db"
   ]
  },
  {
   "cell_type": "code",
   "execution_count": 7,
   "metadata": {
    "collapsed": false
   },
   "outputs": [
    {
     "name": "stderr",
     "output_type": "stream",
     "text": [
      "+ cat local_db/index.js\n"
     ]
    },
    {
     "name": "stdout",
     "output_type": "stream",
     "text": [
      "const testDBConnection = function testDBConnection() {\n",
      "  const MongoClient = require('mongodb').MongoClient,\n",
      "        assert = require('assert'),\n",
      "        // Connection URL\n",
      "        url = 'mongodb://localhost:27017/app',\n",
      "        message = \"Connected successfully to MongoDB server.\";\n",
      "  // Use connect method to connect to the server\n",
      "  MongoClient.connect(url, function(err, db){\n",
      "     assert.equal(null, err);\n",
      "     db.close();\n",
      "  });\n",
      "  return message \n",
      "};\n",
      "\n",
      "module.exports = testDBConnection\n"
     ]
    }
   ],
   "source": [
    "!cat local_db/index.js"
   ]
  },
  {
   "cell_type": "markdown",
   "metadata": {},
   "source": [
    "**Trying out the new package**"
   ]
  },
  {
   "cell_type": "code",
   "execution_count": 1,
   "metadata": {
    "collapsed": false
   },
   "outputs": [
    {
     "name": "stdout",
     "output_type": "stream",
     "text": [
      "Connected successfully to MongoDB server.\n"
     ]
    }
   ],
   "source": [
    "const testDatabase = require('./local_db');\n",
    "console.log(testDatabase());"
   ]
  },
  {
   "cell_type": "markdown",
   "metadata": {},
   "source": [
    "**Success! A simple module was created and imported and run.**"
   ]
  },
  {
   "cell_type": "markdown",
   "metadata": {},
   "source": [
    "### [continued…]({filename}./grilled_flpd_data_02.ipynb)"
   ]
  },
  {
   "cell_type": "markdown",
   "metadata": {},
   "source": [
    "## Resources\n",
    "\n",
    "* [Griddle](https://github.com/GriddleGriddle/Griddle/)"
   ]
  }
 ],
 "metadata": {
  "kernelspec": {
   "display_name": "NodeJS",
   "language": "javascript",
   "name": "nodejs"
  },
  "language_info": {
   "codemirror_mode": "javascript",
   "file_extension": "js",
   "mimetype": "text/javascript",
   "name": "nodejs",
   "pygments_lexer": "javascript",
   "version": "0.10"
  }
 },
 "nbformat": 4,
 "nbformat_minor": 0
}
