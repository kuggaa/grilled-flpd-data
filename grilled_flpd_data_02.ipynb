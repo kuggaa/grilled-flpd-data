{
 "cells": [
  {
   "cell_type": "markdown",
   "metadata": {},
   "source": [
    "## […continued from part 01]({filename}./grilled_flpd_data_01.ipynb)\n",
    "\n",
    "### End goal: display data using ReactJS compontent Grilldle"
   ]
  },
  {
   "cell_type": "markdown",
   "metadata": {
    "collapsed": true
   },
   "source": [
    "## Deploying some front-end tooling."
   ]
  },
  {
   "cell_type": "markdown",
   "metadata": {},
   "source": [
    "Starting by checking the documentation on [Griddle](https://github.com/GriddleGriddle/Griddle/).\n",
    "\n",
    "> Griddle is a simple grid Component for use with React. It depends on Lodash Modules and React.\n",
    "\n",
    "> To use Griddle:\n",
    "\n",
    "`npm install griddle-react`\n",
    "\n",
    "*Running a variation in this Jupyter notebook.*"
   ]
  },
  {
   "cell_type": "code",
   "execution_count": 1,
   "metadata": {
    "collapsed": false
   },
   "outputs": [
    {
     "name": "stderr",
     "output_type": "stream",
     "text": [
      "+ npm install --save griddle-react\n"
     ]
    },
    {
     "name": "stdout",
     "output_type": "stream",
     "text": [
      "grilled_flpd_data@1.0.0 /home/dmmmd/Dropbox/Wyncode-Academy/web-presence/zipped-code/content/posts/python-mongodb/grilled_flpd_data\n",
      "├─┬ griddle-react@0.6.1 \n",
      "│ └── lodash@4.15.0 \n",
      "└── UNMET PEER DEPENDENCY react@^0.14.3 || ^15.0.1\n",
      "\n"
     ]
    },
    {
     "name": "stderr",
     "output_type": "stream",
     "text": [
      "npm WARN griddle-react@0.6.1 requires a peer of react@^0.14.3 || ^15.0.1 but none was installed.\n"
     ]
    }
   ],
   "source": [
    "!npm install --save griddle-react"
   ]
  },
  {
   "cell_type": "code",
   "execution_count": 2,
   "metadata": {
    "collapsed": false
   },
   "outputs": [
    {
     "name": "stderr",
     "output_type": "stream",
     "text": [
      "+ npm install --save react\n"
     ]
    },
    {
     "name": "stdout",
     "output_type": "stream",
     "text": [
      "grilled_flpd_data@1.0.0 /home/dmmmd/Dropbox/Wyncode-Academy/web-presence/zipped-code/content/posts/python-mongodb/grilled_flpd_data\n",
      "└─┬ react@15.3.1 \n",
      "  ├─┬ fbjs@0.8.4 \n",
      "  │ ├── core-js@1.2.7 \n",
      "  │ ├── immutable@3.8.1 \n",
      "  │ ├─┬ isomorphic-fetch@2.2.1 \n",
      "  │ │ ├─┬ node-fetch@1.6.1 \n",
      "  │ │ │ ├─┬ encoding@0.1.12 \n",
      "  │ │ │ │ └── iconv-lite@0.4.13 \n",
      "  │ │ │ └── is-stream@1.1.0 \n",
      "  │ │ └── whatwg-fetch@1.0.0 \n",
      "  │ ├─┬ promise@7.1.1 \n",
      "  │ │ └── asap@2.0.4 \n",
      "  │ └── ua-parser-js@0.7.10 \n",
      "  ├─┬ loose-envify@1.2.0 \n",
      "  │ └── js-tokens@1.0.3 \n",
      "  └── object-assign@4.1.0 \n",
      "\n"
     ]
    }
   ],
   "source": [
    "!npm install --save react "
   ]
  },
  {
   "cell_type": "code",
   "execution_count": 3,
   "metadata": {
    "collapsed": false
   },
   "outputs": [
    {
     "name": "stderr",
     "output_type": "stream",
     "text": [
      "+ npm install --save lodash\n"
     ]
    },
    {
     "name": "stdout",
     "output_type": "stream",
     "text": [
      "grilled_flpd_data@1.0.0 /home/dmmmd/Dropbox/Wyncode-Academy/web-presence/zipped-code/content/posts/python-mongodb/grilled_flpd_data\n",
      "└── lodash@4.15.0 \n",
      "\n"
     ]
    }
   ],
   "source": [
    "!npm install --save lodash"
   ]
  },
  {
   "cell_type": "markdown",
   "metadata": {},
   "source": [
    "*Trying it out in this Jupyter notebook.*"
   ]
  },
  {
   "cell_type": "code",
   "execution_count": 4,
   "metadata": {
    "collapsed": true
   },
   "outputs": [],
   "source": [
    "var React = require('react');\n",
    "var Griddle = require('griddle-react');"
   ]
  },
  {
   "cell_type": "markdown",
   "metadata": {},
   "source": [
    "> At the most basic level, using Griddle is as simple as wiring up an array of JSON objects as a property to the component. First off, include Underscore and React. Include Griddle and the stylesheet before your React Code."
   ]
  },
  {
   "cell_type": "markdown",
   "metadata": {},
   "source": [
    "> Please take a look at a [basic gulp example](https://github.com/ryanlanciaux/griddle-gulp-test/blob/master/gulpfile.js)…\n",
    "\n",
    "*Use `curl` to get the `gulp.js` file…*"
   ]
  },
  {
   "cell_type": "code",
   "execution_count": 7,
   "metadata": {
    "collapsed": false
   },
   "outputs": [
    {
     "name": "stderr",
     "output_type": "stream",
     "text": [
      "+ curl -O https://raw.githubusercontent.com/ryanlanciaux/griddle-gulp-test/master/gulpfile.js\n",
      "  % Total    % Received % Xferd  Average Speed   Time    Time     Time  Current\n",
      "                                 Dload  Upload   Total   Spent    Left  Speed\n",
      "100   404  100   404    0     0  36657      0 --:--:-- --:--:-- --:--:-- 40400\n"
     ]
    }
   ],
   "source": [
    "!curl -O https://raw.githubusercontent.com/ryanlanciaux/griddle-gulp-test/master/gulpfile.js"
   ]
  },
  {
   "cell_type": "code",
   "execution_count": 9,
   "metadata": {
    "collapsed": false
   },
   "outputs": [
    {
     "name": "stdout",
     "output_type": "stream",
     "text": [
      "var gulp = require('gulp');\n",
      "var browserify = require('gulp-browserify');\n",
      "var concat = require('gulp-concat');\n",
      "\n",
      "gulp.task('browserify', function(){\n",
      "\tgulp.src('scripts/testComponent.js')\n",
      "\t.pipe(browserify({transform: 'reactify'}))\n",
      "\t.pipe(concat('main.js'))\n",
      "\t.pipe(gulp.dest('build'));\n",
      "});\n",
      "\n",
      "gulp.task('default', ['browserify'])\n",
      "\n",
      "gulp.task('watch', function(){\n",
      "\tgulp.watch('scripts/**/*.*', ['default']);\n",
      "});"
     ]
    },
    {
     "name": "stderr",
     "output_type": "stream",
     "text": [
      "+ cat gulpfile.js\n"
     ]
    }
   ],
   "source": [
    "!cat gulpfile.js"
   ]
  },
  {
   "cell_type": "markdown",
   "metadata": {},
   "source": [
    "*Install the requirements from `gulpfile.js`*"
   ]
  },
  {
   "cell_type": "markdown",
   "metadata": {},
   "source": [
    "`npm install --save gulp gulp-browserify gulp-concat`\n",
    "\n",
    "*Output too long to display.*"
   ]
  },
  {
   "cell_type": "code",
   "execution_count": 20,
   "metadata": {
    "collapsed": false
   },
   "outputs": [
    {
     "name": "stderr",
     "output_type": "stream",
     "text": [
      "+ gulp\n"
     ]
    },
    {
     "name": "stdout",
     "output_type": "stream",
     "text": [
      "[23:44:54] Using gulpfile ~/Dropbox/Wyncode-Academy/web-presence/zipped-code/content/posts/python-mongodb/grilled_flpd_data/gulpfile.js\n",
      "[23:44:54] Starting 'browserify'...\n",
      "[23:44:54] Finished 'browserify' after 16 ms\n",
      "[23:44:54] Starting 'default'...\n",
      "[23:44:54] Finished 'default' after 15 μs\n"
     ]
    }
   ],
   "source": [
    "!gulp"
   ]
  },
  {
   "cell_type": "markdown",
   "metadata": {},
   "source": [
    "*And now there is a `build/main.js` file.*"
   ]
  },
  {
   "cell_type": "markdown",
   "metadata": {},
   "source": [
    "*When a server is run in a cloned directory of [griddle-gulp-test](https://github.com/ryanlanciaux/griddle-gulp-test), I see the expected result.*\n",
    "\n",
    "![expected result from test]({filename}/images/grilled/grilled_screenshots/gulp_test_expected.png)\n",
    "\n",
    "*When a server is run in a directory of files I am currently creating, an exception is thrown.*\n",
    "\n",
    "![expected result]({filename}/images/grilled/grilled_screenshots/error_coded.png)\n",
    "\n",
    "*Test for differences in key files.*"
   ]
  },
  {
   "cell_type": "code",
   "execution_count": 26,
   "metadata": {
    "collapsed": false
   },
   "outputs": [
    {
     "name": "stderr",
     "output_type": "stream",
     "text": [
      "+ diff gulpfile.js griddle-gulp-test/gulpfile.js\n"
     ]
    }
   ],
   "source": [
    "!diff gulpfile.js griddle-gulp-test/gulpfile.js"
   ]
  },
  {
   "cell_type": "code",
   "execution_count": 31,
   "metadata": {
    "collapsed": false
   },
   "outputs": [
    {
     "name": "stderr",
     "output_type": "stream",
     "text": [
      "+ diff index.html griddle-gulp-test/index.html\n"
     ]
    }
   ],
   "source": [
    "!diff index.html griddle-gulp-test/index.html"
   ]
  },
  {
   "cell_type": "markdown",
   "metadata": {},
   "source": [
    "*After replacing the dependencies attributes of package.json with [these lines from the example test](https://github.com/ryanlanciaux/griddle-gulp-test/blob/67ccf39275dcb4fa4efcb18a6a878a3dd8429bf9/package.json#L6-L20), deleting the ./node_modules directory, and running `npm install` the example I wrote works as expected. Somewhere some packages were not compatible with each other.*\n",
    "\n",
    "![expected result written code]({filename}/images/grilled/grilled_screenshots/expected_results.png)"
   ]
  },
  {
   "cell_type": "markdown",
   "metadata": {},
   "source": [
    "### Question: Is it possible to wire up some data from the MongoDB database?\n",
    "\n",
    "To test, I added some code to the source *.js file:\n",
    "\n",
    "```javascript\n",
    "const MongoClient = require('mongodb').MongoClient,\n",
    "      assert = require('assert'),\n",
    "      // Connection URL\n",
    "      url = 'mongodb://localhost:27017/app',\n",
    "      message = \"Connected successfully to MongoDB server.\";\n",
    "// Use connect method to connect to the server\n",
    "MongoClient.connect(url, function(err, db){\n",
    "   assert.equal(null, err);\n",
    "   console.log(message);\n",
    "   db.close();\n",
    "});\n",
    "```\n",
    "\n",
    "ran `gulp` to add the code to ./build/main.js\n",
    "\n",
    "And discovered that currently [using mongodb inside the browser is not supported](https://jira.mongodb.org/browse/NODE-698).\n",
    "\n",
    "![screenshot browserify mongodb error]({filename}/images/grilled/grilled_screenshots/mongodb_browserify_error.png)\n",
    "\n",
    "### Answer: No. That is not the way to get MongoDB data into Griddle\n",
    "\n",
    "And now that I give this some closer thought, it makes perfect sense. How could a browser have access to a MongoDB instance on localhost?! Though from [the response to the issue filed here](https://jira.mongodb.org/browse/NODE-698) it might be possible in the future.\n",
    "\n",
    "Looks like the answer is [to build a REST API for the data](https://www.mongodb.com/blog/post/building-your-first-application-mongodb-creating-rest-api-using-mean-stack-part-1). And that would be the topic for another notebook."
   ]
  }
 ],
 "metadata": {
  "kernelspec": {
   "display_name": "NodeJS",
   "language": "javascript",
   "name": "nodejs"
  },
  "language_info": {
   "codemirror_mode": "javascript",
   "file_extension": "js",
   "mimetype": "text/javascript",
   "name": "nodejs",
   "pygments_lexer": "javascript",
   "version": "0.10"
  }
 },
 "nbformat": 4,
 "nbformat_minor": 0
}
